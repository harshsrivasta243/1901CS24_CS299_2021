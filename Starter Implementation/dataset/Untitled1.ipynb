{
 "cells": [
  {
   "cell_type": "code",
   "execution_count": 13,
   "metadata": {},
   "outputs": [],
   "source": [
    "import numpy as np\n",
    "import pickle\n",
    "import pandas as pd\n",
    "import streamlit as st\n",
    "from PIL import Image\n",
    "from sklearn.preprocessing import StandardScaler\n",
    "sc_x=StandardScaler()"
   ]
  },
  {
   "cell_type": "code",
   "execution_count": 14,
   "metadata": {},
   "outputs": [],
   "source": [
    "pickle_in=open(\"classifier.pkl\",\"rb\")\n",
    "classifier=pickle.load(pickle_in)\n",
    "def welcome():\n",
    "    return \"Welcome All!\""
   ]
  },
  {
   "cell_type": "code",
   "execution_count": 15,
   "metadata": {},
   "outputs": [],
   "source": [
    "def predict_loan_approval(dpdt,grad,self,incm,cinc,lamt,ltrm,hist,pwrt,p_ar):\n",
    "    prediction=classifier.predict(sc_x.transform([[dpdt,grad,self,incm,cinc,lamt,ltrm,hist,pwrt,p_ar]]))\n",
    "    print(prediction)\n",
    "    return prediction"
   ]
  },
  {
   "cell_type": "code",
   "execution_count": 18,
   "metadata": {},
   "outputs": [],
   "source": [
    "def main():\n",
    "    st.title(\"Loan Approval Predictor\")\n",
    "    html_temp=\"\"\"\n",
    "    <div style=\"background-color:tomato;padding:10px\">\n",
    "    <h2 style=\"color:white;text-align:center;\">Streamlit Loan Approval Predictor ML App</h2>\n",
    "    </div>\n",
    "    \"\"\"\n",
    "    st.markdown(html_temp,unsafe_allow_html=True)\n",
    "    dpdt=st.text_input(\"Number of Dependents\",\"Type Here\")\n",
    "    grad=st.text_input(\"Are you a Graduate?\",\"Type 1 if graduate and 0 otherwise\")\n",
    "    self=st.text_input(\"Are you Self-employed?\",\"Type 1 if self-employed and 0 otherwise\")\n",
    "    incm=st.text_input(\"Monthly Income of Beneficiary\",\"Type Here\")\n",
    "    cinc=st.text_input(\"Monthly Income of Co-beneficiary\",\"Type Here\")\n",
    "    lamt=st.text_input(\"Loan Amount Requested\",\"Type Here\")\n",
    "    ltrm=st.text_input(\"Loan Term Opted\",\"60/120/180 or 240 months terms available\")\n",
    "    hist=st.text_input(\"Credit History\",\"Type 1 if you took previous loan and repaid it, and 0 otherwise\")\n",
    "    pwrt=st.text_input(\"Net Property Worth\",\"Type Here\")\n",
    "    p_ar=st.text_input(\"Property Area\",\"Type 2 for Urban,1 for Semi-urban and 0 for Rural\")\n",
    "    result=\"\"\n",
    "    if st.button(\"Predict\"):\n",
    "        result=predict_loan_approval(dpdt,grad,self,incm,cinc,lamt,ltrm,hist,pwrt,p_ar)\n",
    "        if result==1:\n",
    "            st.success(\"Approval\")\n",
    "        if result==0:\n",
    "            st.success(\"Dismissal\")\n",
    "    "
   ]
  },
  {
   "cell_type": "code",
   "execution_count": 19,
   "metadata": {},
   "outputs": [],
   "source": [
    "if __name__=='__main__':\n",
    "    main()"
   ]
  }
 ],
 "metadata": {
  "kernelspec": {
   "display_name": "Python 3",
   "language": "python",
   "name": "python3"
  },
  "language_info": {
   "codemirror_mode": {
    "name": "ipython",
    "version": 3
   },
   "file_extension": ".py",
   "mimetype": "text/x-python",
   "name": "python",
   "nbconvert_exporter": "python",
   "pygments_lexer": "ipython3",
   "version": "3.8.5"
  }
 },
 "nbformat": 4,
 "nbformat_minor": 4
}
